{
 "cells": [
  {
   "cell_type": "code",
   "execution_count": 2,
   "metadata": {},
   "outputs": [],
   "source": [
    "import keras\n",
    "import numpy as np\n",
    "from PIL import Image\n",
    "import keras.backend as K\n",
    "from keras.models import Sequential\n",
    "from keras.layers import Conv2D\n",
    "# from misc import load_data1, load_data2, load_data3, load_data4, load_data5, load_data6, load_data7, load_data8\n",
    "from keras_vggface.vggface import VGGFace\n",
    "from keras.models import Model, Sequential\n",
    "from keras.layers import Conv2D, BatchNormalization, Activation, MaxPool2D"
   ]
  },
  {
   "cell_type": "code",
   "execution_count": 3,
   "metadata": {},
   "outputs": [],
   "source": [
    "# data = load_data1()\n",
    "\n",
    "K.set_learning_phase(1)\n",
    "\n",
    "sess = K.get_session()\n",
    "X = K.tf.placeholder(shape=(None, 1818, 1228, 3), dtype=K.tf.float32)\n",
    "Y = K.tf.placeholder(shape=(None, 5), dtype=K.tf.float32)"
   ]
  },
  {
   "cell_type": "code",
   "execution_count": 4,
   "metadata": {},
   "outputs": [],
   "source": [
    "vgg = VGGFace(include_top=False, input_tensor = X, input_shape=(1228, 1818, 3))\n",
    "for layer in vgg.layers:\n",
    "    layer.trainable = False"
   ]
  },
  {
   "cell_type": "code",
   "execution_count": 5,
   "metadata": {},
   "outputs": [
    {
     "name": "stdout",
     "output_type": "stream",
     "text": [
      "_________________________________________________________________\n",
      "Layer (type)                 Output Shape              Param #   \n",
      "=================================================================\n",
      "input_1 (InputLayer)         (None, 1228, 1818, 3)     0         \n",
      "_________________________________________________________________\n",
      "conv1_1 (Conv2D)             (None, 1228, 1818, 64)    1792      \n",
      "_________________________________________________________________\n",
      "conv1_2 (Conv2D)             (None, 1228, 1818, 64)    36928     \n",
      "_________________________________________________________________\n",
      "pool1 (MaxPooling2D)         (None, 614, 909, 64)      0         \n",
      "_________________________________________________________________\n",
      "conv2_1 (Conv2D)             (None, 614, 909, 128)     73856     \n",
      "_________________________________________________________________\n",
      "conv2_2 (Conv2D)             (None, 614, 909, 128)     147584    \n",
      "_________________________________________________________________\n",
      "pool2 (MaxPooling2D)         (None, 307, 454, 128)     0         \n",
      "_________________________________________________________________\n",
      "conv3_1 (Conv2D)             (None, 307, 454, 256)     295168    \n",
      "_________________________________________________________________\n",
      "conv3_2 (Conv2D)             (None, 307, 454, 256)     590080    \n",
      "_________________________________________________________________\n",
      "conv3_3 (Conv2D)             (None, 307, 454, 256)     590080    \n",
      "_________________________________________________________________\n",
      "pool3 (MaxPooling2D)         (None, 153, 227, 256)     0         \n",
      "_________________________________________________________________\n",
      "conv4_1 (Conv2D)             (None, 153, 227, 512)     1180160   \n",
      "_________________________________________________________________\n",
      "conv4_2 (Conv2D)             (None, 153, 227, 512)     2359808   \n",
      "_________________________________________________________________\n",
      "conv4_3 (Conv2D)             (None, 153, 227, 512)     2359808   \n",
      "_________________________________________________________________\n",
      "pool4 (MaxPooling2D)         (None, 76, 113, 512)      0         \n",
      "_________________________________________________________________\n",
      "conv5_1 (Conv2D)             (None, 76, 113, 512)      2359808   \n",
      "_________________________________________________________________\n",
      "conv5_2 (Conv2D)             (None, 76, 113, 512)      2359808   \n",
      "_________________________________________________________________\n",
      "conv5_3 (Conv2D)             (None, 76, 113, 512)      2359808   \n",
      "_________________________________________________________________\n",
      "pool5 (MaxPooling2D)         (None, 38, 56, 512)       0         \n",
      "=================================================================\n",
      "Total params: 14,714,688\n",
      "Trainable params: 0\n",
      "Non-trainable params: 14,714,688\n",
      "_________________________________________________________________\n"
     ]
    }
   ],
   "source": [
    "vgg.summary()"
   ]
  },
  {
   "cell_type": "code",
   "execution_count": 168,
   "metadata": {},
   "outputs": [],
   "source": [
    "p1 = Conv2D(filters=10, kernel_size=3, strides=1, padding='same')(vgg.get_layer(index=13).output)\n",
    "p2 = Conv2D(filters=10, kernel_size=3, strides=1, padding='same')(vgg.get_layer(index=17).output)\n",
    "p3 = Conv2D(filters=10, kernel_size=5, strides=1, padding='same')(MaxPool2D(strides=2)(p2))\n",
    "p4 = Conv2D(filters=10, kernel_size=5, strides=1, padding='same')(MaxPool2D(strides=2)(p3))\n",
    "\n",
    "p11 = K.sigmoid(Conv2D(filters=1, kernel_size=3, strides=1, padding='same')(p1))\n",
    "p12 = Conv2D(filters=4, kernel_size=3, strides=1, padding='same')(p1)\n",
    "p21 = K.sigmoid(Conv2D(filters=1, kernel_size=3, strides=1, padding='same')(p2))\n",
    "p22 = Conv2D(filters=4, kernel_size=3, strides=1, padding='same')(p2)\n",
    "p31 = K.sigmoid(Conv2D(filters=1, kernel_size=5, strides=1, padding='same')(p3))\n",
    "p32 = Conv2D(filters=4, kernel_size=5, strides=1, padding='same')(p3)\n",
    "p41 = K.sigmoid(Conv2D(filters=1, kernel_size=5, strides=1, padding='same')(p4))\n",
    "p42 = Conv2D(filters=4, kernel_size=5, strides=1, padding='same')(p4)\n",
    "\n",
    "# p12 = Conv2D(filters=5, kernel_size=3, strides=1, padding='same')(p2)\n",
    "# p22 = Conv2D(filters=5, kernel_size=3, strides=1, padding='same')(p2)\n",
    "# p32 = Conv2D(filters=5, kernel_size=5, strides=1, padding='same')(p3)\n",
    "# p42 = Conv2D(filters=5, kernel_size=5, strides=1, padding='same')(p4)\n",
    "\n",
    "p12 = K.concatenate(tensors=[p11, p12], axis = -1)\n",
    "p22 = K.concatenate(tensors=[p21, p22], axis = -1)\n",
    "p32 = K.concatenate(tensors=[p31, p32], axis = -1)\n",
    "p42 = K.concatenate(tensors=[p41, p42], axis = -1)"
   ]
  },
  {
   "cell_type": "code",
   "execution_count": null,
   "metadata": {},
   "outputs": [],
   "source": []
  },
  {
   "cell_type": "code",
   "execution_count": 170,
   "metadata": {},
   "outputs": [],
   "source": [
    "pred = ([K.reshape(p12, (-1, 5)), K.reshape(p22, (-1, 5)), K.reshape(p32, (-1, 5)), K.reshape(p42, (-1, 5))])"
   ]
  },
  {
   "cell_type": "code",
   "execution_count": 190,
   "metadata": {},
   "outputs": [],
   "source": [
    "def NMS(boxes = pred):\n",
    "    \n",
    "#     Z0 = K.tf.image.non_max_suppression(boxes=K.reshape(boxes[0][0][:, 1:], (-1, 4)), scores=K.reshape(boxes[0][0][:, 0], (-1, )),\n",
    "#                                         max_output_size=25, iou_threshold=0.55)\n",
    "#     Z1 = K.tf.image.non_max_suppression(boxes=K.reshape(boxes[0][1][:, 1:], (-1, 4)), scores=K.reshape(boxes[0][1][:, 0], (-1, )),\n",
    "#                                         max_output_size=25, iou_threshold=0.55)\n",
    "#     Z2 = K.tf.image.non_max_suppression(boxes=K.reshape(boxes[0][2][:, 1:], (-1, 4)), scores=K.reshape(boxes[0][2][:, 0], (-1, )),\n",
    "#                                         max_output_size=25, iou_threshold=0.55)\n",
    "#     Z3 = K.tf.image.non_max_suppression(boxes=K.reshape(boxes[0][3][:, 1:], (-1, 4)), scores=K.reshape(boxes[0][3][:, 0], (-1, )),\n",
    "#                                         max_output_size=25, iou_threshold=0.55)\n",
    "    \n",
    "#     A = K.reshape(K.concatenate(tensors= [K.gather(boxes[0][0], Z0), K.gather(boxes[0][1], Z1), K.gather(boxes[0][2], Z2), K.gather(boxes[0][3], Z3)], axis = 0), (-1, 5))\n",
    "\n",
    "    Z0 = K.tf.image.non_max_suppression(boxes=K.reshape(boxes[0][:, 1:], (-1, 4)), scores=K.reshape(boxes[0][:, 0], (-1, )),\n",
    "                                        max_output_size=25, iou_threshold=0.55)\n",
    "    Z1 = K.tf.image.non_max_suppression(boxes=K.reshape(boxes[1][:, 1:], (-1, 4)), scores=K.reshape(boxes[1][:, 0], (-1, )),\n",
    "                                        max_output_size=25, iou_threshold=0.55)\n",
    "    Z2 = K.tf.image.non_max_suppression(boxes=K.reshape(boxes[2][:, 1:], (-1, 4)), scores=K.reshape(boxes[2][:, 0], (-1, )),\n",
    "                                        max_output_size=25, iou_threshold=0.55)\n",
    "    Z3 = K.tf.image.non_max_suppression(boxes=K.reshape(boxes[3][:, 1:], (-1, 4)), scores=K.reshape(boxes[3][:, 0], (-1, )),\n",
    "                                        max_output_size=25, iou_threshold=0.55)\n",
    "    \n",
    "    A = K.reshape(K.concatenate(tensors= [K.gather(boxes[0], Z0), K.gather(boxes[1], Z1), K.gather(boxes[2], Z2), K.gather(boxes[3], Z3)], axis = 0), (-1, 5))\n",
    "    \n",
    "    return A"
   ]
  },
  {
   "cell_type": "code",
   "execution_count": 172,
   "metadata": {},
   "outputs": [],
   "source": [
    "def NMS_2(A):\n",
    "    Z0 = K.tf.image.non_max_suppression(boxes = K.reshape(A[0][:, 1:] , (-1, 4)), scores= K.reshape(A[0][:, 0], (-1, )),\n",
    "                                        max_output_size = 25, iou_threshold=0.55)\n",
    "    return K.gather(A[0], Z0)"
   ]
  },
  {
   "cell_type": "code",
   "execution_count": 106,
   "metadata": {},
   "outputs": [],
   "source": [
    "def sigmoid(X):\n",
    "    return 1/(1 + K.exp(-X))\n",
    "\n",
    "def relu(X):\n",
    "    return K.maximum(X, 0)\n",
    "\n",
    "def loss(Y, y_, a=0.6):\n",
    "    if K.tf.size(Y) != K.tf.size(y_):\n",
    "        y_ = y_[:2, :]\n",
    "    softMax = K.mean(-(Y[:, 0] * K.log(sigmoid(y_[:, 0])) + ((1 - Y[:, 0]) * K.log(sigmoid(1 - y_[:, 0])))))\n",
    "    mse = K.mean(keras.losses.mean_squared_error(Y[:, 1:], relu(y_[:, 1:])))\n",
    "    return softMax + a*mse "
   ]
  },
  {
   "cell_type": "code",
   "execution_count": 191,
   "metadata": {},
   "outputs": [],
   "source": [
    "sess.run(K.tf.global_variables_initializer())"
   ]
  },
  {
   "cell_type": "code",
   "execution_count": 192,
   "metadata": {},
   "outputs": [],
   "source": [
    "b = sess.run([NMS()], feed_dict={X: np.expand_dims(np.array(Image.open(\"x.jpg\")), axis = 0)})"
   ]
  },
  {
   "cell_type": "code",
   "execution_count": null,
   "metadata": {},
   "outputs": [],
   "source": []
  },
  {
   "cell_type": "code",
   "execution_count": null,
   "metadata": {},
   "outputs": [],
   "source": [
    "opt = K.tf.train.AdagradOptimizer(learning_rate=0.001)\n",
    "train_ = opt.minimize(Loss)\n",
    "sess.run(K.tf.global_variables_initializer())"
   ]
  },
  {
   "cell_type": "code",
   "execution_count": 10,
   "metadata": {},
   "outputs": [],
   "source": [
    "def train(epochs = 10):\n",
    "    for e in range(epochs):\n",
    "        cost = 0\n",
    "#         for i, d in enumerate(data):\n",
    "        _, L = sess.run([train_, Loss], feed_dict={X: np.expand_dims(np.array(Image.open(\"x.jpg\")), axis=0), Y: np.ones((2, 5)).reshape((-1, 5))})\n",
    "        cost += L\n",
    "        if e % 100 == 0:\n",
    "            print(\"epoch {}, iter {} , loss {}\".format(e, i , cost/len(data)))"
   ]
  },
  {
   "cell_type": "code",
   "execution_count": null,
   "metadata": {
    "scrolled": false
   },
   "outputs": [],
   "source": [
    "train(epochs = 12)"
   ]
  },
  {
   "cell_type": "code",
   "execution_count": null,
   "metadata": {},
   "outputs": [],
   "source": []
  }
 ],
 "metadata": {
  "kernelspec": {
   "display_name": "Python 3",
   "language": "python",
   "name": "python3"
  },
  "language_info": {
   "codemirror_mode": {
    "name": "ipython",
    "version": 3
   },
   "file_extension": ".py",
   "mimetype": "text/x-python",
   "name": "python",
   "nbconvert_exporter": "python",
   "pygments_lexer": "ipython3",
   "version": "3.5.2"
  }
 },
 "nbformat": 4,
 "nbformat_minor": 2
}
