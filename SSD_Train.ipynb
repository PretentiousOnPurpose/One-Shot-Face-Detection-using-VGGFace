{
 "cells": [
  {
   "cell_type": "code",
   "execution_count": 3,
   "metadata": {},
   "outputs": [],
   "source": [
    "import keras\n",
    "import time\n",
    "import glob\n",
    "import numpy as np\n",
    "from PIL import Image\n",
    "import tensorflow as tf\n",
    "import keras.backend as K\n",
    "from keras.models import Sequential\n",
    "from keras.layers import Conv2D\n",
    "from keras_vggface.vggface import VGGFace\n",
    "from keras.models import Model, Sequential\n",
    "from keras.layers import Conv2D, BatchNormalization, Activation, MaxPool2D, Dropout"
   ]
  },
  {
   "cell_type": "code",
   "execution_count": 6,
   "metadata": {},
   "outputs": [],
   "source": [
    "imgs = glob.glob(\"data/*.jpg\")"
   ]
  },
  {
   "cell_type": "code",
   "execution_count": 27,
   "metadata": {},
   "outputs": [
    {
     "data": {
      "text/plain": [
       "array([], shape=(0, 4), dtype=float32)"
      ]
     },
     "execution_count": 27,
     "metadata": {},
     "output_type": "execute_result"
    }
   ],
   "source": [
    "imgs"
   ]
  },
  {
   "cell_type": "code",
   "execution_count": 8,
   "metadata": {},
   "outputs": [],
   "source": [
    "faces_imgs = np.load(\"faces_imgs.npy\")\n",
    "faces_annot = np.load(\"faces_annot.npy\")[0]"
   ]
  },
  {
   "cell_type": "code",
   "execution_count": 9,
   "metadata": {},
   "outputs": [],
   "source": [
    "def get_face_id(img):\n",
    "    faces = []\n",
    "    for i in faces_imgs:\n",
    "        if i[1] == img:\n",
    "            faces.append(i[0])\n",
    "    return np.array(faces)"
   ]
  },
  {
   "cell_type": "code",
   "execution_count": 10,
   "metadata": {},
   "outputs": [],
   "source": [
    "def get_id_coord(img):\n",
    "    W, H = Image.open(img).size\n",
    "    coord = [] \n",
    "    ids = get_face_id(img)\n",
    "    for i in ids:\n",
    "        coord.append(faces_annot[int(i)])\n",
    "    a = np.array(coord, dtype=np.float32).reshape(-1, 4)\n",
    "    a = a[a[:,0].argsort()]\n",
    "    a[:, 0] /= W \n",
    "    a[:, 1] /= H\n",
    "    a[:, 2] /= H\n",
    "    a[:, 3] /= W\n",
    "    return a"
   ]
  },
  {
   "cell_type": "code",
   "execution_count": 11,
   "metadata": {},
   "outputs": [],
   "source": [
    "K.set_learning_phase(1)\n",
    "# gpu_options = tf.GPUOptions(per_process_gpu_memory_fraction=0.85)\n",
    "sess = tf.Session()\n",
    "\n",
    "X = tf.placeholder(dtype = tf.float32, shape = (1, None, None, 3))\n",
    "Y = tf.placeholder(dtype = tf.float32, shape = (None, 5))"
   ]
  },
  {
   "cell_type": "code",
   "execution_count": 12,
   "metadata": {},
   "outputs": [],
   "source": [
    "vgg = VGGFace(include_top=False, input_tensor = X, input_shape=(375, 500, 3))\n",
    "for layer in vgg.layers:\n",
    "    layer.trainable = False"
   ]
  },
  {
   "cell_type": "code",
   "execution_count": 13,
   "metadata": {},
   "outputs": [
    {
     "name": "stdout",
     "output_type": "stream",
     "text": [
      "_________________________________________________________________\n",
      "Layer (type)                 Output Shape              Param #   \n",
      "=================================================================\n",
      "input_1 (InputLayer)         (None, 375, 500, 3)       0         \n",
      "_________________________________________________________________\n",
      "conv1_1 (Conv2D)             (None, 375, 500, 64)      1792      \n",
      "_________________________________________________________________\n",
      "conv1_2 (Conv2D)             (None, 375, 500, 64)      36928     \n",
      "_________________________________________________________________\n",
      "pool1 (MaxPooling2D)         (None, 187, 250, 64)      0         \n",
      "_________________________________________________________________\n",
      "conv2_1 (Conv2D)             (None, 187, 250, 128)     73856     \n",
      "_________________________________________________________________\n",
      "conv2_2 (Conv2D)             (None, 187, 250, 128)     147584    \n",
      "_________________________________________________________________\n",
      "pool2 (MaxPooling2D)         (None, 93, 125, 128)      0         \n",
      "_________________________________________________________________\n",
      "conv3_1 (Conv2D)             (None, 93, 125, 256)      295168    \n",
      "_________________________________________________________________\n",
      "conv3_2 (Conv2D)             (None, 93, 125, 256)      590080    \n",
      "_________________________________________________________________\n",
      "conv3_3 (Conv2D)             (None, 93, 125, 256)      590080    \n",
      "_________________________________________________________________\n",
      "pool3 (MaxPooling2D)         (None, 46, 62, 256)       0         \n",
      "_________________________________________________________________\n",
      "conv4_1 (Conv2D)             (None, 46, 62, 512)       1180160   \n",
      "_________________________________________________________________\n",
      "conv4_2 (Conv2D)             (None, 46, 62, 512)       2359808   \n",
      "_________________________________________________________________\n",
      "conv4_3 (Conv2D)             (None, 46, 62, 512)       2359808   \n",
      "_________________________________________________________________\n",
      "pool4 (MaxPooling2D)         (None, 23, 31, 512)       0         \n",
      "_________________________________________________________________\n",
      "conv5_1 (Conv2D)             (None, 23, 31, 512)       2359808   \n",
      "_________________________________________________________________\n",
      "conv5_2 (Conv2D)             (None, 23, 31, 512)       2359808   \n",
      "_________________________________________________________________\n",
      "conv5_3 (Conv2D)             (None, 23, 31, 512)       2359808   \n",
      "_________________________________________________________________\n",
      "pool5 (MaxPooling2D)         (None, 11, 15, 512)       0         \n",
      "=================================================================\n",
      "Total params: 14,714,688\n",
      "Trainable params: 0\n",
      "Non-trainable params: 14,714,688\n",
      "_________________________________________________________________\n"
     ]
    }
   ],
   "source": [
    "vgg.summary()"
   ]
  },
  {
   "cell_type": "code",
   "execution_count": 14,
   "metadata": {},
   "outputs": [],
   "source": [
    "p1 = Conv2D(filters=1024, kernel_size=3, strides=1, padding='same')(vgg.get_layer(index=13).output)\n",
    "p1 = BatchNormalization()(p1)\n",
    "p1 = Activation('relu')(p1)\n",
    "p2 = Conv2D(filters=1024, kernel_size=3, strides=1, padding='same')(vgg.get_layer(index=14).output)\n",
    "p2 = BatchNormalization()(p2)\n",
    "p2 = Activation('relu')(p2)\n",
    "\n",
    "p101 = K.sigmoid(Conv2D(filters=1, kernel_size=3, strides=1, padding='same')(p1))\n",
    "p102 = Conv2D(filters=4, kernel_size=3, strides=1, padding='same')(p1)\n",
    "p102 = BatchNormalization()(p102)\n",
    "# p102 = Activation('relu')(p102)\n",
    "# p102 = Activation('sigmoid')(p102)\n",
    "p201 = K.sigmoid(Conv2D(filters=1, kernel_size=3, strides=1, padding='same')(p2))\n",
    "p202 = Conv2D(filters=4, kernel_size=3, strides=1, padding='same')(p2)\n",
    "p202 = BatchNormalization()(p202)\n",
    "# p202 = Activation('relu')(p202)\n",
    "# p202 = Activation('sigmoid')(p202)\n",
    "\n",
    "\n",
    "# DownSample\n",
    "\n",
    "p1 = MaxPool2D(strides= 2)(p1)\n",
    "p2 = MaxPool2D(strides= 2)(p2)\n",
    "\n",
    "p1 = Conv2D(filters=512, kernel_size=3, strides=1, padding='same')(p1)\n",
    "p1 = BatchNormalization()(p1)\n",
    "p1 = Activation('relu')(p1)\n",
    "p2 = Conv2D(filters=512, kernel_size=3, strides=1, padding='same')(p2)\n",
    "p2 = BatchNormalization()(p2)\n",
    "p2 = Activation('relu')(p2)\n",
    "\n",
    "p111 = K.sigmoid(Conv2D(filters=1, kernel_size=3, strides=1, padding='same')(p1))\n",
    "p112 = Conv2D(filters=4, kernel_size=3, strides=1, padding='same')(p1)\n",
    "p112 = BatchNormalization()(p112)\n",
    "# p112 = Activation('relu')(p112)\n",
    "# p112 = Activation('sigmoid')(p112)\n",
    "p211 = K.sigmoid(Conv2D(filters=1, kernel_size=3, strides=1, padding='same')(p2))\n",
    "p212 = Conv2D(filters=4, kernel_size=3, strides=1, padding='same')(p2)\n",
    "p212 = BatchNormalization()(p212)\n",
    "# p212 = Activation('relu')(p212)\n",
    "# p212 = Activation('sigmoid')(p212)\n",
    "\n",
    "# DownSample\n",
    "\n",
    "p1 = MaxPool2D(strides= 2)(p1)\n",
    "p2 = MaxPool2D(strides= 2)(p2)\n",
    "\n",
    "p1 = Conv2D(filters=512, kernel_size=3, strides=1, padding='same')(p1)\n",
    "p1 = BatchNormalization()(p1)\n",
    "p1 = Activation('relu')(p1)\n",
    "p2 = Conv2D(filters=512, kernel_size=3, strides=1, padding='same')(p2)\n",
    "p2 = BatchNormalization()(p2)\n",
    "p2 = Activation('relu')(p2)\n",
    "\n",
    "p121 = K.sigmoid(Conv2D(filters=1, kernel_size=3, strides=1, padding='same')(p1))\n",
    "p122 = Conv2D(filters=4, kernel_size=3, strides=1, padding='same')(p1)\n",
    "p122 = BatchNormalization()(p122)\n",
    "# p122 = Activation('relu')(p122)\n",
    "# p122 = Activation('sigmoid')(p122)\n",
    "p221 = K.sigmoid(Conv2D(filters=1, kernel_size=3, strides=1, padding='same')(p2))\n",
    "p222 = Conv2D(filters=4, kernel_size=3, strides=1, padding='same')(p2)\n",
    "p222 = BatchNormalization()(p222)\n",
    "# p222 = Activation('relu')(p222)\n",
    "# p222 = Activation('sigmoid')(p222)\n",
    "\n",
    "# DownSample\n",
    "\n",
    "p1 = MaxPool2D(strides= 2)(p1)\n",
    "p2 = MaxPool2D(strides= 2)(p2)\n",
    "\n",
    "p1 = Conv2D(filters=256, kernel_size=3, strides=1, padding='same')(p1)\n",
    "p1 = BatchNormalization()(p1)\n",
    "p1 = Activation('relu')(p1)\n",
    "p2 = Conv2D(filters=256, kernel_size=3, strides=1, padding='same')(p2)\n",
    "p2 = BatchNormalization()(p2)\n",
    "p2 = Activation('relu')(p2)\n",
    "\n",
    "p131 = K.sigmoid(Conv2D(filters=1, kernel_size=3, strides=1, padding='same')(p1))\n",
    "p132 = Conv2D(filters=4, kernel_size=3, strides=1, padding='same')(p1)\n",
    "p132 = BatchNormalization()(p132)\n",
    "# p132 = Activation('relu')(p132)\n",
    "# p132 = Activation('sigmoid')(p132)\n",
    "p231 = K.sigmoid(Conv2D(filters=1, kernel_size=3, strides=1, padding='same')(p2))\n",
    "p232 = Conv2D(filters=4, kernel_size=3, strides=1, padding='same')(p2)\n",
    "p232 = BatchNormalization()(p232)\n",
    "# p232 = Activation('relu')(p232)\n",
    "# p232 = Activation('sigmoid')(p232)\n",
    "\n",
    "# Combine All Predictions\n",
    "\n",
    "p102 = K.concatenate(tensors=[p101, p102], axis = -1)\n",
    "p202 = K.concatenate(tensors=[p201, p202], axis = -1)\n",
    "\n",
    "p112 = K.concatenate(tensors=[p111, p112], axis = -1)\n",
    "p212 = K.concatenate(tensors=[p211, p212], axis = -1)\n",
    "\n",
    "p122 = K.concatenate(tensors=[p121, p122], axis = -1)\n",
    "p222 = K.concatenate(tensors=[p221, p222], axis = -1)\n",
    "\n",
    "p132 = K.concatenate(tensors=[p131, p132], axis = -1)\n",
    "p232 = K.concatenate(tensors=[p231, p232], axis = -1)"
   ]
  },
  {
   "cell_type": "code",
   "execution_count": 15,
   "metadata": {},
   "outputs": [],
   "source": [
    "pred = [K.reshape(p102, (-1, 5)),\n",
    "        K.reshape(p202, (-1, 5)),\n",
    "        K.reshape(p112, (-1, 5)),\n",
    "        K.reshape(p212, (-1, 5)),\n",
    "        K.reshape(p122, (-1, 5)),\n",
    "        K.reshape(p222, (-1, 5)),\n",
    "        K.reshape(p132, (-1, 5)),\n",
    "        K.reshape(p232, (-1, 5)),\n",
    "       ]"
   ]
  },
  {
   "cell_type": "code",
   "execution_count": 16,
   "metadata": {},
   "outputs": [],
   "source": [
    "pred = K.concatenate(pred, axis = 0)"
   ]
  },
  {
   "cell_type": "code",
   "execution_count": 17,
   "metadata": {},
   "outputs": [],
   "source": [
    "def NMS(boxes = pred):    \n",
    "    Z0 = K.tf.image.non_max_suppression(boxes=K.reshape(boxes[:, 1:], (-1, 4)), scores=K.reshape(boxes[:, 0], (-1, )),\n",
    "                                        max_output_size=20, iou_threshold=0.55)\n",
    "    A = K.reshape(K.tf.gather_nd(boxes, K.reshape(Z0, (-1, 1))), (-1, 5))\n",
    "    return A"
   ]
  },
  {
   "cell_type": "code",
   "execution_count": 18,
   "metadata": {},
   "outputs": [],
   "source": [
    "def loss(Y, y, a=0.8):\n",
    "    if tf.size(Y) != tf.size(y):\n",
    "        n = tf.truncatediv(tf.size(Y),  K.constant(value = 5, dtype=tf.int32))\n",
    "        y_ = y[:n]\n",
    "        \n",
    "    softMax = K.mean(-(Y[:, 0] * K.log(y_[:, 0]) + (1 - Y[:, 0]) * K.log(1 - y_[:, 0])))\n",
    "    mse = K.mean(K.square(Y[:, 1:] - y_[:, 1:]))\n",
    "    return softMax + 1.5 * mse"
   ]
  },
  {
   "cell_type": "code",
   "execution_count": 19,
   "metadata": {},
   "outputs": [],
   "source": [
    "bbox = NMS()"
   ]
  },
  {
   "cell_type": "code",
   "execution_count": 20,
   "metadata": {},
   "outputs": [
    {
     "name": "stdout",
     "output_type": "stream",
     "text": [
      "WARNING:tensorflow:From /usr/local/lib/python3.5/dist-packages/keras/backend/tensorflow_backend.py:1349: calling reduce_mean (from tensorflow.python.ops.math_ops) with keep_dims is deprecated and will be removed in a future version.\n",
      "Instructions for updating:\n",
      "keep_dims is deprecated, use keepdims instead\n"
     ]
    }
   ],
   "source": [
    "cost = loss(Y, bbox)"
   ]
  },
  {
   "cell_type": "code",
   "execution_count": 21,
   "metadata": {},
   "outputs": [
    {
     "name": "stderr",
     "output_type": "stream",
     "text": [
      "/usr/local/lib/python3.5/dist-packages/tensorflow/python/ops/gradients_impl.py:97: UserWarning: Converting sparse IndexedSlices to a dense Tensor of unknown shape. This may consume a large amount of memory.\n",
      "  \"Converting sparse IndexedSlices to a dense Tensor of unknown shape. \"\n"
     ]
    }
   ],
   "source": [
    "opt = tf.train.AdamOptimizer(learning_rate=0.000075)\n",
    "train_ = opt.minimize(cost)"
   ]
  },
  {
   "cell_type": "code",
   "execution_count": 22,
   "metadata": {},
   "outputs": [],
   "source": [
    "sess.run(tf.global_variables_initializer())"
   ]
  },
  {
   "cell_type": "code",
   "execution_count": 25,
   "metadata": {},
   "outputs": [],
   "source": [
    "def train(epochs = 10):\n",
    "    for e in range(epochs):\n",
    "        for img in imgs:\n",
    "            _, L = sess.run([train_, cost], feed_dict={X: np.expand_dims(np.array(Image.open(img), dtype = np.float32)/255, axis=0), Y: np.array(np.append([1], get_id_coord(img)), dtype = np.float32)})       \n",
    "        if e % 50 == 0:\n",
    "            print(\"epoch {}, iter {} , loss {}\".format(e, 0 , L))"
   ]
  },
  {
   "cell_type": "code",
   "execution_count": 26,
   "metadata": {},
   "outputs": [
    {
     "ename": "ValueError",
     "evalue": "Cannot feed value of shape (1,) for Tensor 'Placeholder_1:0', which has shape '(?, 5)'",
     "output_type": "error",
     "traceback": [
      "\u001b[0;31m---------------------------------------------------------------------------\u001b[0m",
      "\u001b[0;31mValueError\u001b[0m                                Traceback (most recent call last)",
      "\u001b[0;32m<ipython-input-26-ba5476276c98>\u001b[0m in \u001b[0;36m<module>\u001b[0;34m()\u001b[0m\n\u001b[0;32m----> 1\u001b[0;31m \u001b[0mtrain\u001b[0m\u001b[0;34m(\u001b[0m\u001b[0mepochs\u001b[0m \u001b[0;34m=\u001b[0m \u001b[0;36m25000\u001b[0m\u001b[0;34m)\u001b[0m\u001b[0;34m\u001b[0m\u001b[0m\n\u001b[0m",
      "\u001b[0;32m<ipython-input-25-cee1d1a57763>\u001b[0m in \u001b[0;36mtrain\u001b[0;34m(epochs)\u001b[0m\n\u001b[1;32m      2\u001b[0m     \u001b[0;32mfor\u001b[0m \u001b[0me\u001b[0m \u001b[0;32min\u001b[0m \u001b[0mrange\u001b[0m\u001b[0;34m(\u001b[0m\u001b[0mepochs\u001b[0m\u001b[0;34m)\u001b[0m\u001b[0;34m:\u001b[0m\u001b[0;34m\u001b[0m\u001b[0m\n\u001b[1;32m      3\u001b[0m         \u001b[0;32mfor\u001b[0m \u001b[0mimg\u001b[0m \u001b[0;32min\u001b[0m \u001b[0mimgs\u001b[0m\u001b[0;34m:\u001b[0m\u001b[0;34m\u001b[0m\u001b[0m\n\u001b[0;32m----> 4\u001b[0;31m             \u001b[0m_\u001b[0m\u001b[0;34m,\u001b[0m \u001b[0mL\u001b[0m \u001b[0;34m=\u001b[0m \u001b[0msess\u001b[0m\u001b[0;34m.\u001b[0m\u001b[0mrun\u001b[0m\u001b[0;34m(\u001b[0m\u001b[0;34m[\u001b[0m\u001b[0mtrain_\u001b[0m\u001b[0;34m,\u001b[0m \u001b[0mcost\u001b[0m\u001b[0;34m]\u001b[0m\u001b[0;34m,\u001b[0m \u001b[0mfeed_dict\u001b[0m\u001b[0;34m=\u001b[0m\u001b[0;34m{\u001b[0m\u001b[0mX\u001b[0m\u001b[0;34m:\u001b[0m \u001b[0mnp\u001b[0m\u001b[0;34m.\u001b[0m\u001b[0mexpand_dims\u001b[0m\u001b[0;34m(\u001b[0m\u001b[0mnp\u001b[0m\u001b[0;34m.\u001b[0m\u001b[0marray\u001b[0m\u001b[0;34m(\u001b[0m\u001b[0mImage\u001b[0m\u001b[0;34m.\u001b[0m\u001b[0mopen\u001b[0m\u001b[0;34m(\u001b[0m\u001b[0mimg\u001b[0m\u001b[0;34m)\u001b[0m\u001b[0;34m,\u001b[0m \u001b[0mdtype\u001b[0m \u001b[0;34m=\u001b[0m \u001b[0mnp\u001b[0m\u001b[0;34m.\u001b[0m\u001b[0mfloat32\u001b[0m\u001b[0;34m)\u001b[0m\u001b[0;34m/\u001b[0m\u001b[0;36m255\u001b[0m\u001b[0;34m,\u001b[0m \u001b[0maxis\u001b[0m\u001b[0;34m=\u001b[0m\u001b[0;36m0\u001b[0m\u001b[0;34m)\u001b[0m\u001b[0;34m,\u001b[0m \u001b[0mY\u001b[0m\u001b[0;34m:\u001b[0m \u001b[0mnp\u001b[0m\u001b[0;34m.\u001b[0m\u001b[0marray\u001b[0m\u001b[0;34m(\u001b[0m\u001b[0mnp\u001b[0m\u001b[0;34m.\u001b[0m\u001b[0mappend\u001b[0m\u001b[0;34m(\u001b[0m\u001b[0;34m[\u001b[0m\u001b[0;36m1\u001b[0m\u001b[0;34m]\u001b[0m\u001b[0;34m,\u001b[0m \u001b[0mget_id_coord\u001b[0m\u001b[0;34m(\u001b[0m\u001b[0mimg\u001b[0m\u001b[0;34m)\u001b[0m\u001b[0;34m)\u001b[0m\u001b[0;34m,\u001b[0m \u001b[0mdtype\u001b[0m \u001b[0;34m=\u001b[0m \u001b[0mnp\u001b[0m\u001b[0;34m.\u001b[0m\u001b[0mfloat32\u001b[0m\u001b[0;34m)\u001b[0m\u001b[0;34m}\u001b[0m\u001b[0;34m)\u001b[0m\u001b[0;34m\u001b[0m\u001b[0m\n\u001b[0m\u001b[1;32m      5\u001b[0m         \u001b[0;32mif\u001b[0m \u001b[0me\u001b[0m \u001b[0;34m%\u001b[0m \u001b[0;36m50\u001b[0m \u001b[0;34m==\u001b[0m \u001b[0;36m0\u001b[0m\u001b[0;34m:\u001b[0m\u001b[0;34m\u001b[0m\u001b[0m\n\u001b[1;32m      6\u001b[0m             \u001b[0mprint\u001b[0m\u001b[0;34m(\u001b[0m\u001b[0;34m\"epoch {}, iter {} , loss {}\"\u001b[0m\u001b[0;34m.\u001b[0m\u001b[0mformat\u001b[0m\u001b[0;34m(\u001b[0m\u001b[0me\u001b[0m\u001b[0;34m,\u001b[0m \u001b[0;36m0\u001b[0m \u001b[0;34m,\u001b[0m \u001b[0mL\u001b[0m\u001b[0;34m)\u001b[0m\u001b[0;34m)\u001b[0m\u001b[0;34m\u001b[0m\u001b[0m\n",
      "\u001b[0;32m/usr/local/lib/python3.5/dist-packages/tensorflow/python/client/session.py\u001b[0m in \u001b[0;36mrun\u001b[0;34m(self, fetches, feed_dict, options, run_metadata)\u001b[0m\n\u001b[1;32m    893\u001b[0m     \u001b[0;32mtry\u001b[0m\u001b[0;34m:\u001b[0m\u001b[0;34m\u001b[0m\u001b[0m\n\u001b[1;32m    894\u001b[0m       result = self._run(None, fetches, feed_dict, options_ptr,\n\u001b[0;32m--> 895\u001b[0;31m                          run_metadata_ptr)\n\u001b[0m\u001b[1;32m    896\u001b[0m       \u001b[0;32mif\u001b[0m \u001b[0mrun_metadata\u001b[0m\u001b[0;34m:\u001b[0m\u001b[0;34m\u001b[0m\u001b[0m\n\u001b[1;32m    897\u001b[0m         \u001b[0mproto_data\u001b[0m \u001b[0;34m=\u001b[0m \u001b[0mtf_session\u001b[0m\u001b[0;34m.\u001b[0m\u001b[0mTF_GetBuffer\u001b[0m\u001b[0;34m(\u001b[0m\u001b[0mrun_metadata_ptr\u001b[0m\u001b[0;34m)\u001b[0m\u001b[0;34m\u001b[0m\u001b[0m\n",
      "\u001b[0;32m/usr/local/lib/python3.5/dist-packages/tensorflow/python/client/session.py\u001b[0m in \u001b[0;36m_run\u001b[0;34m(self, handle, fetches, feed_dict, options, run_metadata)\u001b[0m\n\u001b[1;32m   1102\u001b[0m                 \u001b[0;34m'Cannot feed value of shape %r for Tensor %r, '\u001b[0m\u001b[0;34m\u001b[0m\u001b[0m\n\u001b[1;32m   1103\u001b[0m                 \u001b[0;34m'which has shape %r'\u001b[0m\u001b[0;34m\u001b[0m\u001b[0m\n\u001b[0;32m-> 1104\u001b[0;31m                 % (np_val.shape, subfeed_t.name, str(subfeed_t.get_shape())))\n\u001b[0m\u001b[1;32m   1105\u001b[0m           \u001b[0;32mif\u001b[0m \u001b[0;32mnot\u001b[0m \u001b[0mself\u001b[0m\u001b[0;34m.\u001b[0m\u001b[0mgraph\u001b[0m\u001b[0;34m.\u001b[0m\u001b[0mis_feedable\u001b[0m\u001b[0;34m(\u001b[0m\u001b[0msubfeed_t\u001b[0m\u001b[0;34m)\u001b[0m\u001b[0;34m:\u001b[0m\u001b[0;34m\u001b[0m\u001b[0m\n\u001b[1;32m   1106\u001b[0m             \u001b[0;32mraise\u001b[0m \u001b[0mValueError\u001b[0m\u001b[0;34m(\u001b[0m\u001b[0;34m'Tensor %s may not be fed.'\u001b[0m \u001b[0;34m%\u001b[0m \u001b[0msubfeed_t\u001b[0m\u001b[0;34m)\u001b[0m\u001b[0;34m\u001b[0m\u001b[0m\n",
      "\u001b[0;31mValueError\u001b[0m: Cannot feed value of shape (1,) for Tensor 'Placeholder_1:0', which has shape '(?, 5)'"
     ]
    }
   ],
   "source": [
    "train(epochs = 25000)"
   ]
  },
  {
   "cell_type": "code",
   "execution_count": 106,
   "metadata": {},
   "outputs": [],
   "source": [
    "d = sess.run(bbox, feed_dict={X: np.expand_dims(np.array(Image.open(imgs[1]))/255, axis=0)})"
   ]
  },
  {
   "cell_type": "code",
   "execution_count": 107,
   "metadata": {},
   "outputs": [
    {
     "data": {
      "text/plain": [
       "array([ 0.90736467,  1.3879048 ,  1.3609929 , -0.9225632 , -1.0526922 ],\n",
       "      dtype=float32)"
      ]
     },
     "execution_count": 107,
     "metadata": {},
     "output_type": "execute_result"
    }
   ],
   "source": [
    "d[1]"
   ]
  },
  {
   "cell_type": "code",
   "execution_count": 108,
   "metadata": {},
   "outputs": [],
   "source": [
    "def plot_box(box, img):\n",
    "    import matplotlib.pyplot as plt\n",
    "    import matplotlib.patches as patches\n",
    "    from PIL import Image\n",
    "    %matplotlib inline\n",
    "    p, x, y, h, w = box\n",
    "    im = np.array(Image.open(img), dtype=np.uint8)\n",
    "    W, H = Image.open(img).size\n",
    "    fig,ax = plt.subplots(1)\n",
    "\n",
    "    ax.imshow(im)\n",
    "\n",
    "    rect = patches.Rectangle((x*W,y*H),w*W,h*H,linewidth=1,edgecolor='r',facecolor='none')\n",
    "\n",
    "    ax.add_patch(rect)\n",
    "\n",
    "    plt.show()"
   ]
  },
  {
   "cell_type": "code",
   "execution_count": 109,
   "metadata": {},
   "outputs": [
    {
     "data": {
      "image/png": "[encoded data removed]",
      "text/plain": [
       "<matplotlib.figure.Figure at 0x7f2ad8932c50>"
      ]
     },
     "metadata": {},
     "output_type": "display_data"
    }
   ],
   "source": [
    "plot_box(np.abs(d[1]), imgs[1])"
   ]
  },
  {
   "cell_type": "code",
   "execution_count": null,
   "metadata": {},
   "outputs": [],
   "source": []
  }
 ],
 "metadata": {
  "kernelspec": {
   "display_name": "Python 3",
   "language": "python",
   "name": "python3"
  },
  "language_info": {
   "codemirror_mode": {
    "name": "ipython",
    "version": 3
   },
   "file_extension": ".py",
   "mimetype": "text/x-python",
   "name": "python",
   "nbconvert_exporter": "python",
   "pygments_lexer": "ipython3",
   "version": "3.5.2"
  }
 },
 "nbformat": 4,
 "nbformat_minor": 2
}
