{
 "cells": [
  {
   "cell_type": "code",
   "execution_count": 3,
   "metadata": {},
   "outputs": [],
   "source": [
    "import keras\n",
    "import numpy as np\n",
    "from PIL import Image\n",
    "import keras.backend as K\n",
    "from keras.models import Sequential\n",
    "from keras.layers import Conv2D\n",
    "# from misc import load_data1, load_data2, load_data3, load_data4, load_data5, load_data6, load_data7, load_data8\n",
    "from keras_vggface.vggface import VGGFace\n",
    "from keras.models import Model, Sequential\n",
    "from keras.layers import Conv2D, BatchNormalization, Activation, MaxPool2D"
   ]
  },
  {
   "cell_type": "code",
   "execution_count": 4,
   "metadata": {},
   "outputs": [],
   "source": [
    "# data = load_data1()\n",
    "\n",
    "K.set_learning_phase(1)\n",
    "\n",
    "sess = K.get_session()\n",
    "X = K.tf.placeholder(shape=(None, None, None, 3), dtype=K.tf.float32)\n",
    "Y = K.tf.placeholder(shape=(None, 5), dtype=K.tf.float32)"
   ]
  },
  {
   "cell_type": "code",
   "execution_count": 5,
   "metadata": {},
   "outputs": [],
   "source": [
    "vgg = VGGFace(include_top=False, input_tensor = X)\n",
    "for layer in vgg.layers:\n",
    "    layer.trainable = False"
   ]
  },
  {
   "cell_type": "code",
   "execution_count": 6,
   "metadata": {},
   "outputs": [
    {
     "name": "stdout",
     "output_type": "stream",
     "text": [
      "_________________________________________________________________\n",
      "Layer (type)                 Output Shape              Param #   \n",
      "=================================================================\n",
      "input_1 (InputLayer)         (None, None, None, 3)     0         \n",
      "_________________________________________________________________\n",
      "conv1_1 (Conv2D)             (None, None, None, 64)    1792      \n",
      "_________________________________________________________________\n",
      "conv1_2 (Conv2D)             (None, None, None, 64)    36928     \n",
      "_________________________________________________________________\n",
      "pool1 (MaxPooling2D)         (None, None, None, 64)    0         \n",
      "_________________________________________________________________\n",
      "conv2_1 (Conv2D)             (None, None, None, 128)   73856     \n",
      "_________________________________________________________________\n",
      "conv2_2 (Conv2D)             (None, None, None, 128)   147584    \n",
      "_________________________________________________________________\n",
      "pool2 (MaxPooling2D)         (None, None, None, 128)   0         \n",
      "_________________________________________________________________\n",
      "conv3_1 (Conv2D)             (None, None, None, 256)   295168    \n",
      "_________________________________________________________________\n",
      "conv3_2 (Conv2D)             (None, None, None, 256)   590080    \n",
      "_________________________________________________________________\n",
      "conv3_3 (Conv2D)             (None, None, None, 256)   590080    \n",
      "_________________________________________________________________\n",
      "pool3 (MaxPooling2D)         (None, None, None, 256)   0         \n",
      "_________________________________________________________________\n",
      "conv4_1 (Conv2D)             (None, None, None, 512)   1180160   \n",
      "_________________________________________________________________\n",
      "conv4_2 (Conv2D)             (None, None, None, 512)   2359808   \n",
      "_________________________________________________________________\n",
      "conv4_3 (Conv2D)             (None, None, None, 512)   2359808   \n",
      "_________________________________________________________________\n",
      "pool4 (MaxPooling2D)         (None, None, None, 512)   0         \n",
      "_________________________________________________________________\n",
      "conv5_1 (Conv2D)             (None, None, None, 512)   2359808   \n",
      "_________________________________________________________________\n",
      "conv5_2 (Conv2D)             (None, None, None, 512)   2359808   \n",
      "_________________________________________________________________\n",
      "conv5_3 (Conv2D)             (None, None, None, 512)   2359808   \n",
      "_________________________________________________________________\n",
      "pool5 (MaxPooling2D)         (None, None, None, 512)   0         \n",
      "=================================================================\n",
      "Total params: 14,714,688\n",
      "Trainable params: 0\n",
      "Non-trainable params: 14,714,688\n",
      "_________________________________________________________________\n"
     ]
    }
   ],
   "source": [
    "vgg.summary()"
   ]
  },
  {
   "cell_type": "code",
   "execution_count": 7,
   "metadata": {},
   "outputs": [],
   "source": [
    "p11 = K.sigmoid(Conv2D(filters=1, kernel_size=3, strides=1, padding='same')(vgg.get_layer(index=12).output))\n",
    "p12 = Conv2D(filters=4, kernel_size=3, strides=1, padding='same')(vgg.get_layer(index=12).output)\n",
    "p21 = K.sigmoid(Conv2D(filters=1, kernel_size=3, strides=1, padding='same')(vgg.get_layer(index=14).output))\n",
    "p22 = Conv2D(filters=4, kernel_size=3, strides=1, padding='same')(vgg.get_layer(index=14).output)\n",
    "p31 = K.sigmoid(Conv2D(filters=1, kernel_size=5, strides=1, padding='same')(vgg.get_layer(index=16).output))\n",
    "p32 = Conv2D(filters=4, kernel_size=5, strides=1, padding='same')(vgg.get_layer(index=16).output)\n",
    "p41 = K.sigmoid(Conv2D(filters=1, kernel_size=5, strides=1, padding='same')(vgg.get_layer(index=18).output))\n",
    "p42 = Conv2D(filters=4, kernel_size=5, strides=1, padding='same')(vgg.get_layer(index=18).output)"
   ]
  },
  {
   "cell_type": "code",
   "execution_count": 27,
   "metadata": {},
   "outputs": [
    {
     "data": {
      "text/plain": [
       "<tf.Tensor 'Sigmoid:0' shape=(?, ?, ?, 1) dtype=float32>"
      ]
     },
     "execution_count": 27,
     "metadata": {},
     "output_type": "execute_result"
    }
   ],
   "source": [
    "p11"
   ]
  },
  {
   "cell_type": "code",
   "execution_count": 30,
   "metadata": {},
   "outputs": [],
   "source": [
    "def filter_pred(scores = [p11, p21, p31, p41], bbox = [p12, p22, p32, p42]):\n",
    "    \n",
    "    p12, p22, p32, p42 = bbox\n",
    "    \n",
    "    p11_mask = K.greater_equal(scores[0], 0.5)\n",
    "    p21_mask = K.greater_equal(scores[1], 0.5)\n",
    "    p31_mask = K.greater_equal(scores[2], 0.5)\n",
    "    p41_mask = K.greater_equal(scores[3], 0.5)\n",
    "    \n",
    "    p12 = K.tf.gather_nd(K.reshape(p12, (-1, 4)), indices= K.cast(p11_mask, dtype=K.tf.int32))\n",
    "    p22 = K.tf.gather_nd(K.reshape(p22, (-1, 4)), indices= K.cast(p21_mask, dtype=K.tf.int32))\n",
    "    p32 = K.tf.gather_nd(K.reshape(p32, (-1, 4)), indices= K.cast(p31_mask, dtype=K.tf.int32))\n",
    "    p42 = K.tf.gather_nd(K.reshape(p42, (-1, 4)), indices= K.cast(p41_mask, dtype=K.tf.int32))\n",
    "    \n",
    "    return K.reshape(K.concatenate(tensors=[p12, p22, p32, p42], axis = 0), (-1, 4))"
   ]
  },
  {
   "cell_type": "code",
   "execution_count": 33,
   "metadata": {},
   "outputs": [],
   "source": [
    "boxes = filter_pred()"
   ]
  },
  {
   "cell_type": "code",
   "execution_count": 9,
   "metadata": {},
   "outputs": [],
   "source": [
    "def NMS(boxes):\n",
    "    Z1 = K.tf.image.non_max_suppression(boxes=K.reshape(pred1[:, 1:], ((-1, 4))),\n",
    "                                        scores=K.reshape(pred1[:, 0], ((-1,))), max_output_size=10,\n",
    "                                        iou_threshold=0.55)\n",
    "    Z2 = K.tf.image.non_max_suppression(boxes=K.reshape(pred2[:, 1:], ((-1, 4))),\n",
    "                                        scores=K.reshape(pred2[:, 0], ((-1,))), max_output_size=10,\n",
    "                                        iou_threshold=0.55)\n",
    "    Z3 = K.tf.image.non_max_suppression(boxes=K.reshape(pred3[:, 1:], ((-1, 4))),\n",
    "                                        scores=K.reshape(pred3[:, 0], ((-1,))), max_output_size=10,\n",
    "                                        iou_threshold=0.55)\n",
    "    Z4 = K.tf.image.non_max_suppression(boxes=K.reshape(pred4[:, 1:], ((-1, 4))),\n",
    "                                        scores=K.reshape(pred4[:, 0], ((-1,))), max_output_size=10,\n",
    "                                        iou_threshold=0.55)\n",
    "\n",
    "    A = K.concatenate(tensors=[K.tf.dynamic_partition(pred1, Z1, 10)[1], K.tf.dynamic_partition(pred2, Z2, 10)[1], K.tf.dynamic_partition(pred3, Z3, 10)[1], K.tf.dynamic_partition(pred4, Z4, 10)[1]],\n",
    "                      axis=0)\n",
    "\n",
    "    Z5 = K.tf.image.non_max_suppression(boxes=K.reshape(A[:, 1:], (-1, 4)), scores=K.reshape(A[:, 0], (-1,)),\n",
    "                                        max_output_size=10, iou_threshold=0.6)\n",
    "    return K.gather(A, Z5)\n"
   ]
  },
  {
   "cell_type": "code",
   "execution_count": 15,
   "metadata": {},
   "outputs": [],
   "source": [
    "def sigmoid(X):\n",
    "    return 1/(1 + K.exp(-X))\n",
    "\n",
    "def relu(X):\n",
    "    return K.maximum(X, 0)\n",
    "\n",
    "def loss(Y, y_, a=0.6):\n",
    "    if K.tf.size(Y) != K.tf.size(y_):\n",
    "        y_ = y_[:2, :]\n",
    "    softMax = K.mean(-(Y[:, 0] * K.log(sigmoid(y_[:, 0])) + ((1 - Y[:, 0]) * K.log(sigmoid(1 - y_[:, 0])))))\n",
    "    mse = K.mean(keras.losses.mean_squared_error(Y[:, 1:], relu(y_[:, 1:])))\n",
    "    return softMax + a*mse "
   ]
  },
  {
   "cell_type": "code",
   "execution_count": null,
   "metadata": {},
   "outputs": [],
   "source": [
    "y_ = NMS(p1, p2, p3, p4)\n",
    "sess.run(K.tf.global_variables_initializer())\n",
    "h = sess.run(fetches=y_, feed_dict={X: np.expand_dims(np.array(Image.open(\"x.jpg\")), axis=0)})\n",
    "\n",
    "# Loss = loss(Y, y_)"
   ]
  },
  {
   "cell_type": "code",
   "execution_count": null,
   "metadata": {},
   "outputs": [],
   "source": []
  },
  {
   "cell_type": "code",
   "execution_count": 17,
   "metadata": {},
   "outputs": [
    {
     "name": "stderr",
     "output_type": "stream",
     "text": [
      "/usr/local/lib/python3.5/dist-packages/tensorflow/python/ops/gradients_impl.py:96: UserWarning: Converting sparse IndexedSlices to a dense Tensor of unknown shape. This may consume a large amount of memory.\n",
      "  \"Converting sparse IndexedSlices to a dense Tensor of unknown shape. \"\n"
     ]
    }
   ],
   "source": [
    "opt = K.tf.train.AdagradOptimizer(learning_rate=0.0001)\n",
    "train_ = opt.minimize(Loss)\n",
    "sess.run(K.tf.global_variables_initializer())"
   ]
  },
  {
   "cell_type": "code",
   "execution_count": 10,
   "metadata": {},
   "outputs": [],
   "source": [
    "def train(epochs = 10):\n",
    "    for e in range(epochs):\n",
    "        cost = 0\n",
    "#         for i, d in enumerate(data):\n",
    "        _, L = sess.run([train_, Loss], feed_dict={X: np.expand_dims(np.array(Image.open(\"x.jpg\")), axis=0), Y: np.ones((2, 5)).reshape((-1, 5))})\n",
    "        cost += L\n",
    "        if e % 100 == 0:\n",
    "            print(\"epoch {}, iter {} , loss {}\".format(e, i , cost/len(data)))"
   ]
  },
  {
   "cell_type": "code",
   "execution_count": null,
   "metadata": {
    "scrolled": false
   },
   "outputs": [],
   "source": [
    "train(epochs = 12)"
   ]
  },
  {
   "cell_type": "code",
   "execution_count": 23,
   "metadata": {},
   "outputs": [],
   "source": [
    "x = np.array([[1, 2, 3], [2, 3, 4], [3, 4, 5]])"
   ]
  },
  {
   "cell_type": "code",
   "execution_count": 28,
   "metadata": {},
   "outputs": [],
   "source": [
    "s = np.array([0.43, 0.67, 0.5])"
   ]
  },
  {
   "cell_type": "code",
   "execution_count": 29,
   "metadata": {},
   "outputs": [],
   "source": [
    "sm = np.greater_equal(s, 0.5)"
   ]
  },
  {
   "cell_type": "code",
   "execution_count": 30,
   "metadata": {},
   "outputs": [
    {
     "data": {
      "text/plain": [
       "array([[2, 3, 4],\n",
       "       [3, 4, 5]])"
      ]
     },
     "execution_count": 30,
     "metadata": {},
     "output_type": "execute_result"
    }
   ],
   "source": [
    "x[sm]"
   ]
  },
  {
   "cell_type": "code",
   "execution_count": null,
   "metadata": {},
   "outputs": [],
   "source": []
  }
 ],
 "metadata": {
  "kernelspec": {
   "display_name": "Python 3",
   "language": "python",
   "name": "python3"
  },
  "language_info": {
   "codemirror_mode": {
    "name": "ipython",
    "version": 3
   },
   "file_extension": ".py",
   "mimetype": "text/x-python",
   "name": "python",
   "nbconvert_exporter": "python",
   "pygments_lexer": "ipython3",
   "version": "3.5.2"
  }
 },
 "nbformat": 4,
 "nbformat_minor": 2
}
