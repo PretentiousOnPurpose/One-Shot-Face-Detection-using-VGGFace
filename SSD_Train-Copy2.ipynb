{
 "cells": [
  {
   "cell_type": "code",
   "execution_count": 5,
   "metadata": {
    "scrolled": true
   },
   "outputs": [],
   "source": [
    "import keras\n",
    "import sys\n",
    "import math\n",
    "import time\n",
    "import glob\n",
    "import numpy as np\n",
    "from PIL import Image\n",
    "import tensorflow as tf\n",
    "from numpy import array\n",
    "import keras.backend as K\n",
    "from keras.models import Sequential\n",
    "from keras.layers import Conv2D\n",
    "from keras_vggface.vggface import VGGFace\n",
    "from keras.models import Model, Sequential\n",
    "from keras.layers import Conv2D, BatchNormalization, Activation, MaxPool2D, Dropout"
   ]
  },
  {
   "cell_type": "code",
   "execution_count": 2,
   "metadata": {},
   "outputs": [],
   "source": [
    "Imgs1 = glob.glob(\"Data/*.jpg\")"
   ]
  },
  {
   "cell_type": "code",
   "execution_count": 3,
   "metadata": {},
   "outputs": [],
   "source": [
    "faces_imgs = np.load(\"faces_imgs.npy\")\n",
    "faces_annot = np.load(\"faces_annot.npy\")[0]"
   ]
  },
  {
   "cell_type": "code",
   "execution_count": 4,
   "metadata": {},
   "outputs": [],
   "source": [
    "def get_face_id(img):\n",
    "    faces = []\n",
    "    for i in faces_imgs:\n",
    "        if i[1] == img:\n",
    "            faces.append(i[0])\n",
    "#     print(faces)\n",
    "    return np.array(faces)"
   ]
  },
  {
   "cell_type": "code",
   "execution_count": 6,
   "metadata": {},
   "outputs": [],
   "source": [
    "def get_id_coord(img):\n",
    "#     print(img)\n",
    "    W, H = Image.open(img).size\n",
    "    coord = [] \n",
    "    ids = get_face_id(img[5:])\n",
    "#     print(ids)\n",
    "    for i in ids:\n",
    "        if int(i) not in faces_annot.keys():\n",
    "            return np.array([])\n",
    "        coord.append(faces_annot[int(i)])\n",
    "    a = np.array(coord, dtype=np.float32).reshape(-1, 4)\n",
    "    a = a[a[:,0].argsort()]\n",
    "    a[:, 0] = a[:, 0] /  W \n",
    "    a[:, 1] = a[:, 1] /  H \n",
    "    a[:, 2] = a[:, 2] /  W \n",
    "    a[:, 3] = a[:, 3] /  H \n",
    "\n",
    "    a = np.append(arr = np.ones((len(a), 1)), values= a, axis = 1).reshape(-1, 5)\n",
    "    return a"
   ]
  },
  {
   "cell_type": "code",
   "execution_count": null,
   "metadata": {},
   "outputs": [],
   "source": [
    "Imgs = np.load(\"imgsFINAL.npy\")[0]"
   ]
  },
  {
   "cell_type": "code",
   "execution_count": null,
   "metadata": {},
   "outputs": [],
   "source": [
    "imgs = glob.glob(\"train/*/*.jpg\")"
   ]
  },
  {
   "cell_type": "code",
   "execution_count": null,
   "metadata": {},
   "outputs": [],
   "source": [
    "Imgs['train/0--Parade/0_Parade_Parade_0_181.jpg']"
   ]
  },
  {
   "cell_type": "code",
   "execution_count": null,
   "metadata": {},
   "outputs": [],
   "source": [
    "def coord(imgName):\n",
    "    W, H = Image.open(imgName).convert(\"RGB\").size\n",
    "    a = Imgs[imgName]\n",
    "    a = a[a[:,1].argsort()]\n",
    "    a[:, 1] = a[:, 1] /  W \n",
    "    a[:, 2] = a[:, 2] /  H \n",
    "    a[:, 3] = a[:, 3] /  W \n",
    "    a[:, 4] = a[:, 4] /  H \n",
    "    \n",
    "    return a"
   ]
  },
  {
   "cell_type": "code",
   "execution_count": 7,
   "metadata": {},
   "outputs": [],
   "source": [
    "K.set_learning_phase(1)\n",
    "# gpu_options = tf.GPUOptions(per_process_gpu_memory_fraction=0.85)\n",
    "sess = tf.Session()\n",
    "\n",
    "X = tf.placeholder(dtype = tf.float32, shape = (1, None, None, 3))\n",
    "Y = tf.placeholder(dtype = tf.float32, shape = (None, 5))"
   ]
  },
  {
   "cell_type": "code",
   "execution_count": 8,
   "metadata": {},
   "outputs": [],
   "source": [
    "vgg = VGGFace(include_top=False, input_tensor = X, input_shape=(None, None, 3))\n",
    "for layer in vgg.layers:\n",
    "    layer.trainable = False"
   ]
  },
  {
   "cell_type": "code",
   "execution_count": 9,
   "metadata": {},
   "outputs": [],
   "source": [
    "p1 = Conv2D(filters=1024, kernel_size=3, strides=1, padding='same')(vgg.get_layer(index=11).output)\n",
    "p1 = BatchNormalization()(p1)\n",
    "p1 = Activation('relu')(p1)\n",
    "p21 = Conv2D(filters=1024, kernel_size=3, strides=1, padding='same')(vgg.get_layer(index=13).output)\n",
    "p2 = BatchNormalization()(p21)\n",
    "p2 = Activation('relu')(p2)\n",
    "\n",
    "p101 = K.sigmoid(Conv2D(filters=1, kernel_size=3, strides=1, padding='same')(p1))\n",
    "p102 = Conv2D(filters=4, kernel_size=3, strides=1, padding='same')(p1)\n",
    "p102 = BatchNormalization()(p102)\n",
    "# p102 = Activation('relu')(p102)\n",
    "# p102 = Activation('sigmoid')(p102)\n",
    "p201 = K.sigmoid(Conv2D(filters=1, kernel_size=3, strides=1, padding='same')(p2))\n",
    "p202 = Conv2D(filters=4, kernel_size=3, strides=1, padding='same')(p2)\n",
    "p202 = BatchNormalization()(p202)\n",
    "# p202 = Activation('relu')(p202)\n",
    "# p202 = Activation('sigmoid')(p202)\n",
    "\n",
    "\n",
    "# DownSample\n",
    "\n",
    "p1 = MaxPool2D(strides= 2)(p1)\n",
    "p2 = MaxPool2D(strides= 2)(p2)\n",
    "\n",
    "p1 = Conv2D(filters=512, kernel_size=3, strides=1, padding='same')(p1)\n",
    "p1 = BatchNormalization()(p1)\n",
    "p1 = Activation('relu')(p1)\n",
    "p2 = Conv2D(filters=512, kernel_size=3, strides=1, padding='same')(p2)\n",
    "p2 = BatchNormalization()(p2)\n",
    "p2 = Activation('relu')(p2)\n",
    "\n",
    "p111 = K.sigmoid(Conv2D(filters=1, kernel_size=3, strides=1, padding='same')(p1))\n",
    "p112 = Conv2D(filters=4, kernel_size=3, strides=1, padding='same')(p1)\n",
    "p112 = BatchNormalization()(p112)\n",
    "# p112 = Activation('relu')(p112)\n",
    "# p112 = Activation('sigmoid')(p112)\n",
    "p211 = K.sigmoid(Conv2D(filters=1, kernel_size=3, strides=1, padding='same')(p2))\n",
    "p212 = Conv2D(filters=4, kernel_size=3, strides=1, padding='same')(p2)\n",
    "p212 = BatchNormalization()(p212)\n",
    "# p212 = Activation('relu')(p212)\n",
    "# p212 = Activation('sigmoid')(p212)\n",
    "\n",
    "# DownSample\n",
    "\n",
    "p1 = MaxPool2D(strides= 2)(p1)\n",
    "p2 = MaxPool2D(strides= 2)(p2)\n",
    "\n",
    "p1 = Conv2D(filters=512, kernel_size=3, strides=1, padding='same')(p1)\n",
    "p1 = BatchNormalization()(p1)\n",
    "p1 = Activation('relu')(p1)\n",
    "p2 = Conv2D(filters=512, kernel_size=3, strides=1, padding='same')(p2)\n",
    "p2 = BatchNormalization()(p2)\n",
    "p2 = Activation('relu')(p2)\n",
    "\n",
    "p121 = K.sigmoid(Conv2D(filters=1, kernel_size=3, strides=1, padding='same')(p1))\n",
    "p122 = Conv2D(filters=4, kernel_size=3, strides=1, padding='same')(p1)\n",
    "p122 = BatchNormalization()(p122)\n",
    "# p122 = Activation('relu')(p122)\n",
    "# p122 = Activation('sigmoid')(p122)\n",
    "p221 = K.sigmoid(Conv2D(filters=1, kernel_size=3, strides=1, padding='same')(p2))\n",
    "p222 = Conv2D(filters=4, kernel_size=3, strides=1, padding='same')(p2)\n",
    "p222 = BatchNormalization()(p222)\n",
    "# p222 = Activation('relu')(p222)\n",
    "# p222 = Activation('sigmoid')(p222)\n",
    "\n",
    "# DownSample\n",
    "\n",
    "p1 = MaxPool2D(strides= 2)(p1)\n",
    "p2 = MaxPool2D(strides= 2)(p2)\n",
    "\n",
    "p1 = Conv2D(filters=256, kernel_size=3, strides=1, padding='same')(p1)\n",
    "p1 = BatchNormalization()(p1)\n",
    "p1 = Activation('relu')(p1)\n",
    "p2 = Conv2D(filters=256, kernel_size=3, strides=1, padding='same')(p2)\n",
    "p2 = BatchNormalization()(p2)\n",
    "p2 = Activation('relu')(p2)\n",
    "\n",
    "p131 = K.sigmoid(Conv2D(filters=1, kernel_size=3, strides=1, padding='same')(p1))\n",
    "p132 = Conv2D(filters=4, kernel_size=3, strides=1, padding='same')(p1)\n",
    "p132 = BatchNormalization()(p132)\n",
    "# p132 = Activation('relu')(p132)\n",
    "# p132 = Activation('sigmoid')(p132)\n",
    "p231 = K.sigmoid(Conv2D(filters=1, kernel_size=3, strides=1, padding='same')(p2))\n",
    "p232 = Conv2D(filters=4, kernel_size=3, strides=1, padding='same')(p2)\n",
    "p232 = BatchNormalization()(p232)\n",
    "# p232 = Activation('relu')(p232)\n",
    "# p232 = Activation('sigmoid')(p232)\n",
    "\n",
    "# Combine All Predictions\n",
    "\n",
    "p102 = K.concatenate(tensors=[p101, p102], axis = -1)\n",
    "p202 = K.concatenate(tensors=[p201, p202], axis = -1)\n",
    "\n",
    "p112 = K.concatenate(tensors=[p111, p112], axis = -1)\n",
    "p212 = K.concatenate(tensors=[p211, p212], axis = -1)\n",
    "\n",
    "p122 = K.concatenate(tensors=[p121, p122], axis = -1)\n",
    "p222 = K.concatenate(tensors=[p221, p222], axis = -1)\n",
    "\n",
    "p132 = K.concatenate(tensors=[p131, p132], axis = -1)\n",
    "p232 = K.concatenate(tensors=[p231, p232], axis = -1)"
   ]
  },
  {
   "cell_type": "code",
   "execution_count": 10,
   "metadata": {},
   "outputs": [],
   "source": [
    "preds = [K.reshape(p102, (-1, 5)),\n",
    "        K.reshape(p202, (-1, 5)),\n",
    "        K.reshape(p112, (-1, 5)),\n",
    "        K.reshape(p212, (-1, 5)),\n",
    "        K.reshape(p122, (-1, 5)),\n",
    "        K.reshape(p222, (-1, 5)),\n",
    "        K.reshape(p132, (-1, 5)),\n",
    "        K.reshape(p232, (-1, 5))\n",
    "       ]"
   ]
  },
  {
   "cell_type": "code",
   "execution_count": 11,
   "metadata": {},
   "outputs": [],
   "source": [
    "preds = K.concatenate(preds, axis = 0)"
   ]
  },
  {
   "cell_type": "code",
   "execution_count": 12,
   "metadata": {},
   "outputs": [],
   "source": [
    "def NMS(boxes = preds):    \n",
    "    Z0 = tf.image.non_max_suppression(boxes=K.reshape(boxes[:, 1:], (-1, 4)), scores=K.reshape(boxes[:, 0], (-1, )),\n",
    "                                        max_output_size=40, iou_threshold=0.55)\n",
    "    A = K.reshape(tf.gather_nd(boxes, K.reshape(Z0, (-1, 1))), (-1, 5))\n",
    "    return A"
   ]
  },
  {
   "cell_type": "code",
   "execution_count": 16,
   "metadata": {},
   "outputs": [],
   "source": [
    "def loss(Y, y, a=0.8):\n",
    "    if tf.size(Y) != tf.size(y):\n",
    "        n = tf.truncatediv(tf.size(Y),  K.constant(value = 5, dtype=tf.int32))\n",
    "        y_ = y[:n]\n",
    "        \n",
    "    softMax = K.mean(-(Y[:, 0] * K.log(tf.clip_by_value(y_[:, 0], 1e-10,1.0)) + (1 - Y[:, 0]) * K.log(tf.clip_by_value((1 - y_[:, 0]), 1e-10,1.0)))) + 0.85 * K.mean(-(tf.zeros_like(y[n:])[:, 0] * K.log(tf.clip_by_value(y[n:][:, 0], 1e-10,1.0)) + (1 - tf.zeros_like(y[n:])[:, 0]) * K.log(tf.clip_by_value((1 - y[n:][:, 0]), 1e-10,1.0))))\n",
    "    mse = K.mean(K.square(Y[:, 1:] - y_[:, 1:]))\n",
    "    return softMax + 1.35 * mse"
   ]
  },
  {
   "cell_type": "code",
   "execution_count": 17,
   "metadata": {},
   "outputs": [],
   "source": [
    "bbox = NMS()"
   ]
  },
  {
   "cell_type": "code",
   "execution_count": 18,
   "metadata": {},
   "outputs": [],
   "source": [
    "cost = loss(Y, bbox)"
   ]
  },
  {
   "cell_type": "code",
   "execution_count": 19,
   "metadata": {},
   "outputs": [],
   "source": [
    "opt = tf.train.AdamOptimizer(learning_rate=0.0000025)\n",
    "train_ = opt.minimize(cost)"
   ]
  },
  {
   "cell_type": "code",
   "execution_count": 20,
   "metadata": {},
   "outputs": [],
   "source": [
    "saver = tf.train.Saver()"
   ]
  },
  {
   "cell_type": "code",
   "execution_count": null,
   "metadata": {},
   "outputs": [],
   "source": [
    "sess = tf.InteractiveSession()"
   ]
  },
  {
   "cell_type": "code",
   "execution_count": null,
   "metadata": {},
   "outputs": [],
   "source": [
    "sess.run(tf.global_variables_initializer())"
   ]
  },
  {
   "cell_type": "code",
   "execution_count": 24,
   "metadata": {},
   "outputs": [],
   "source": [
    "def train(ID, it, epochs = 10):\n",
    "    for e in range(epochs):\n",
    "        loss = 0.0\n",
    "        for i in range(len(Imgs1)):            \n",
    "            try:\n",
    "#                 y1 = coord(imgs[i])\n",
    "#                 if len(y1) == 0:\n",
    "#                     continue                \n",
    "#                 if len(y1) > 40:\n",
    "#                     len_ERR += 1 \n",
    "#                 b, L, _ = sess.run([bbox, cost, train_], feed_dict={X: np.expand_dims(np.array(Image.open(imgs[i]).convert(\"RGB\").resize((60, 60), Image.ANTIALIAS))/255, axis = 0), Y: y1})\n",
    "#                 loss += L\n",
    "                y1 = get_id_coord(Imgs1[i])\n",
    "                if len(y1) == 0:\n",
    "                    continue\n",
    "                if len(y1) > 40:\n",
    "                    len_ERR += 1 \n",
    "                b, L, _ = sess.run([bbox, cost, train_], feed_dict={X: np.expand_dims(np.array(Image.open(Imgs1[i]).convert(\"RGB\").resize((60, 60), Image.ANTIALIAS))/255, axis = 0), Y: y1})\n",
    "                loss += L\n",
    "                if math.isnan(L):\n",
    "                    print(\"NAN Occured\")\n",
    "                    return\n",
    "                if i % 5000 == 0:\n",
    "                    print(\"iter {} loss: {}\".format(i, L))\n",
    "                if i % 50 == 0:\n",
    "                    file = open(\"ckpt_{}_loss.txt\".format(e+1), \"a\")\n",
    "                    file.write(\"iter {} loss: {}\\n\".format(i, L))\n",
    "                    file.close()\n",
    "                    \n",
    "                if i % 2000 == 0:\n",
    "                    saver.save(sess, save_path=\"checkpoints/epoch_{}_iter_{}.ckpt\".format(e+1, i))\n",
    "            except:\n",
    "                continue"
   ]
  },
  {
   "cell_type": "code",
   "execution_count": null,
   "metadata": {},
   "outputs": [
    {
     "name": "stdout",
     "output_type": "stream",
     "text": [
      "iter 0 loss: 0.02835824526846409\n"
     ]
    },
    {
     "name": "stderr",
     "output_type": "stream",
     "text": [
      "/home/chawat/.local/lib/python3.5/site-packages/PIL/TiffImagePlugin.py:742: UserWarning: Corrupt EXIF data.  Expecting to read 12 bytes but only got 0. \n",
      "  warnings.warn(str(msg))\n"
     ]
    },
    {
     "name": "stdout",
     "output_type": "stream",
     "text": [
      "iter 5000 loss: 0.028718966990709305\n"
     ]
    },
    {
     "name": "stderr",
     "output_type": "stream",
     "text": [
      "/home/chawat/.local/lib/python3.5/site-packages/PIL/TiffImagePlugin.py:725: UserWarning: Possibly corrupt EXIF data.  Expecting to read 19660800 bytes but only got 0. Skipping tag 0\n",
      "  \" Skipping tag %s\" % (size, len(data), tag))\n",
      "/home/chawat/.local/lib/python3.5/site-packages/PIL/TiffImagePlugin.py:742: UserWarning: Corrupt EXIF data.  Expecting to read 12 bytes but only got 6. \n",
      "  warnings.warn(str(msg))\n",
      "/home/chawat/.local/lib/python3.5/site-packages/PIL/TiffImagePlugin.py:742: UserWarning: Corrupt EXIF data.  Expecting to read 4 bytes but only got 0. \n",
      "  warnings.warn(str(msg))\n"
     ]
    },
    {
     "name": "stdout",
     "output_type": "stream",
     "text": [
      "iter 10000 loss: 0.028140893206000328\n"
     ]
    },
    {
     "name": "stderr",
     "output_type": "stream",
     "text": [
      "/home/chawat/.local/lib/python3.5/site-packages/PIL/TiffImagePlugin.py:725: UserWarning: Possibly corrupt EXIF data.  Expecting to read 80000 bytes but only got 0. Skipping tag 64640\n",
      "  \" Skipping tag %s\" % (size, len(data), tag))\n",
      "/home/chawat/.local/lib/python3.5/site-packages/PIL/TiffImagePlugin.py:725: UserWarning: Possibly corrupt EXIF data.  Expecting to read 3368026112 bytes but only got 0. Skipping tag 7\n",
      "  \" Skipping tag %s\" % (size, len(data), tag))\n",
      "/home/chawat/.local/lib/python3.5/site-packages/PIL/TiffImagePlugin.py:725: UserWarning: Possibly corrupt EXIF data.  Expecting to read 134479872 bytes but only got 0. Skipping tag 7\n",
      "  \" Skipping tag %s\" % (size, len(data), tag))\n",
      "/home/chawat/.local/lib/python3.5/site-packages/PIL/TiffImagePlugin.py:725: UserWarning: Possibly corrupt EXIF data.  Expecting to read 4294901760 bytes but only got 0. Skipping tag 4\n",
      "  \" Skipping tag %s\" % (size, len(data), tag))\n",
      "/home/chawat/.local/lib/python3.5/site-packages/PIL/TiffImagePlugin.py:725: UserWarning: Possibly corrupt EXIF data.  Expecting to read 3300917248 bytes but only got 0. Skipping tag 7\n",
      "  \" Skipping tag %s\" % (size, len(data), tag))\n",
      "/home/chawat/.local/lib/python3.5/site-packages/PIL/TiffImagePlugin.py:725: UserWarning: Possibly corrupt EXIF data.  Expecting to read 65536 bytes but only got 0. Skipping tag 3\n",
      "  \" Skipping tag %s\" % (size, len(data), tag))\n",
      "/home/chawat/.local/lib/python3.5/site-packages/PIL/TiffImagePlugin.py:725: UserWarning: Possibly corrupt EXIF data.  Expecting to read 110428160 bytes but only got 0. Skipping tag 4\n",
      "  \" Skipping tag %s\" % (size, len(data), tag))\n",
      "/home/chawat/.local/lib/python3.5/site-packages/PIL/TiffImagePlugin.py:725: UserWarning: Possibly corrupt EXIF data.  Expecting to read 71827456 bytes but only got 0. Skipping tag 4\n",
      "  \" Skipping tag %s\" % (size, len(data), tag))\n",
      "/home/chawat/.local/lib/python3.5/site-packages/PIL/TiffImagePlugin.py:725: UserWarning: Possibly corrupt EXIF data.  Expecting to read 34603008 bytes but only got 0. Skipping tag 4\n",
      "  \" Skipping tag %s\" % (size, len(data), tag))\n",
      "/home/chawat/.local/lib/python3.5/site-packages/PIL/TiffImagePlugin.py:725: UserWarning: Possibly corrupt EXIF data.  Expecting to read 196608 bytes but only got 0. Skipping tag 7\n",
      "  \" Skipping tag %s\" % (size, len(data), tag))\n",
      "/home/chawat/.local/lib/python3.5/site-packages/PIL/TiffImagePlugin.py:725: UserWarning: Possibly corrupt EXIF data.  Expecting to read 65536 bytes but only got 6191. Skipping tag 7\n",
      "  \" Skipping tag %s\" % (size, len(data), tag))\n",
      "/home/chawat/.local/lib/python3.5/site-packages/PIL/TiffImagePlugin.py:725: UserWarning: Possibly corrupt EXIF data.  Expecting to read 131073 bytes but only got 6187. Skipping tag 0\n",
      "  \" Skipping tag %s\" % (size, len(data), tag))\n",
      "/home/chawat/.local/lib/python3.5/site-packages/PIL/TiffImagePlugin.py:725: UserWarning: Possibly corrupt EXIF data.  Expecting to read 393216 bytes but only got 0. Skipping tag 3\n",
      "  \" Skipping tag %s\" % (size, len(data), tag))\n",
      "/home/chawat/.local/lib/python3.5/site-packages/PIL/TiffImagePlugin.py:725: UserWarning: Possibly corrupt EXIF data.  Expecting to read 196608 bytes but only got 0. Skipping tag 3\n",
      "  \" Skipping tag %s\" % (size, len(data), tag))\n",
      "/home/chawat/.local/lib/python3.5/site-packages/PIL/TiffImagePlugin.py:725: UserWarning: Possibly corrupt EXIF data.  Expecting to read 42467328 bytes but only got 0. Skipping tag 5\n",
      "  \" Skipping tag %s\" % (size, len(data), tag))\n",
      "/home/chawat/.local/lib/python3.5/site-packages/PIL/TiffImagePlugin.py:725: UserWarning: Possibly corrupt EXIF data.  Expecting to read 42991616 bytes but only got 0. Skipping tag 5\n",
      "  \" Skipping tag %s\" % (size, len(data), tag))\n",
      "/home/chawat/.local/lib/python3.5/site-packages/PIL/TiffImagePlugin.py:725: UserWarning: Possibly corrupt EXIF data.  Expecting to read 131072 bytes but only got 0. Skipping tag 3\n",
      "  \" Skipping tag %s\" % (size, len(data), tag))\n",
      "/home/chawat/.local/lib/python3.5/site-packages/PIL/TiffImagePlugin.py:725: UserWarning: Possibly corrupt EXIF data.  Expecting to read 43515904 bytes but only got 0. Skipping tag 4\n",
      "  \" Skipping tag %s\" % (size, len(data), tag))\n",
      "/home/chawat/.local/lib/python3.5/site-packages/PIL/TiffImagePlugin.py:725: UserWarning: Possibly corrupt EXIF data.  Expecting to read 362217472 bytes but only got 6191. Skipping tag 4\n",
      "  \" Skipping tag %s\" % (size, len(data), tag))\n",
      "/home/chawat/.local/lib/python3.5/site-packages/PIL/TiffImagePlugin.py:742: UserWarning: Corrupt EXIF data.  Expecting to read 12 bytes but only got 1. \n",
      "  warnings.warn(str(msg))\n"
     ]
    },
    {
     "name": "stdout",
     "output_type": "stream",
     "text": [
      "iter 15000 loss: 0.035236768424510956\n"
     ]
    },
    {
     "name": "stderr",
     "output_type": "stream",
     "text": [
      "/home/chawat/.local/lib/python3.5/site-packages/PIL/TiffImagePlugin.py:742: UserWarning: Corrupt EXIF data.  Expecting to read 2 bytes but only got 0. \n",
      "  warnings.warn(str(msg))\n",
      "/home/chawat/.local/lib/python3.5/site-packages/PIL/TiffImagePlugin.py:742: UserWarning: Corrupt EXIF data.  Expecting to read 12 bytes but only got 4. \n",
      "  warnings.warn(str(msg))\n"
     ]
    },
    {
     "name": "stdout",
     "output_type": "stream",
     "text": [
      "iter 20000 loss: 0.029017340391874313\n"
     ]
    },
    {
     "name": "stderr",
     "output_type": "stream",
     "text": [
      "/home/chawat/.local/lib/python3.5/site-packages/PIL/TiffImagePlugin.py:725: UserWarning: Possibly corrupt EXIF data.  Expecting to read 99811328 bytes but only got 0. Skipping tag 4\n",
      "  \" Skipping tag %s\" % (size, len(data), tag))\n",
      "/home/chawat/.local/lib/python3.5/site-packages/PIL/TiffImagePlugin.py:725: UserWarning: Possibly corrupt EXIF data.  Expecting to read 70385664 bytes but only got 0. Skipping tag 4\n",
      "  \" Skipping tag %s\" % (size, len(data), tag))\n",
      "/home/chawat/.local/lib/python3.5/site-packages/PIL/TiffImagePlugin.py:725: UserWarning: Possibly corrupt EXIF data.  Expecting to read 65536 bytes but only got 7595. Skipping tag 7\n",
      "  \" Skipping tag %s\" % (size, len(data), tag))\n",
      "/home/chawat/.local/lib/python3.5/site-packages/PIL/TiffImagePlugin.py:725: UserWarning: Possibly corrupt EXIF data.  Expecting to read 131073 bytes but only got 7591. Skipping tag 0\n",
      "  \" Skipping tag %s\" % (size, len(data), tag))\n",
      "/home/chawat/.local/lib/python3.5/site-packages/PIL/TiffImagePlugin.py:725: UserWarning: Possibly corrupt EXIF data.  Expecting to read 454230016 bytes but only got 7595. Skipping tag 4\n",
      "  \" Skipping tag %s\" % (size, len(data), tag))\n",
      "/home/chawat/.local/lib/python3.5/site-packages/PIL/TiffImagePlugin.py:725: UserWarning: Possibly corrupt EXIF data.  Expecting to read 400672686 bytes but only got 0. Skipping tag 250\n",
      "  \" Skipping tag %s\" % (size, len(data), tag))\n"
     ]
    },
    {
     "name": "stdout",
     "output_type": "stream",
     "text": [
      "iter 0 loss: 0.03239038214087486\n",
      "iter 5000 loss: 0.030386656522750854\n"
     ]
    }
   ],
   "source": [
    "train(0, 0, 10)"
   ]
  },
  {
   "cell_type": "code",
   "execution_count": 22,
   "metadata": {},
   "outputs": [
    {
     "name": "stdout",
     "output_type": "stream",
     "text": [
      "INFO:tensorflow:Restoring parameters from checkpoints/epoch_5_iter_20000.ckpt\n"
     ]
    }
   ],
   "source": [
    "saver.restore(sess, save_path=\"checkpoints/epoch_5_iter_20000.ckpt\")"
   ]
  },
  {
   "cell_type": "code",
   "execution_count": null,
   "metadata": {},
   "outputs": [],
   "source": [
    "def plot_box(bbox, imgName):\n",
    "    import matplotlib.pyplot as plt\n",
    "    import matplotlib.patches as patches\n",
    "    from PIL import Image\n",
    "    %matplotlib inline\n",
    "    import numpy as np\n",
    "#     w, h = 500, 500\n",
    "    im = np.array(Image.open(imgName), dtype=np.uint8)\n",
    "    fig,ax = plt.subplots(1)\n",
    "    ax.imshow(im)\n",
    "    for box in bbox:\n",
    "        _, X, Y, W, H = box\n",
    "        rect = patches.Rectangle((X  ,Y ), W , H ,linewidth=3,edgecolor='r',facecolor='none')\n",
    "        ax.add_patch(rect)\n",
    "        \n",
    "    plt.savefig(\"image.png\")"
   ]
  },
  {
   "cell_type": "code",
   "execution_count": null,
   "metadata": {},
   "outputs": [],
   "source": [
    "def plot_box1(bbox, imgName):\n",
    "    import matplotlib.pyplot as plt\n",
    "    import matplotlib.patches as patches\n",
    "    from PIL import Image\n",
    "    import numpy as np\n",
    "    w, h = 100, 100\n",
    "    im = np.array(Image.open(imgName).resize((100, 100), Image.ANTIALIAS), dtype=np.uint8)\n",
    "    fig,ax = plt.subplots(1)\n",
    "    ax.imshow(im)\n",
    "    for box in bbox:\n",
    "        _, X, Y, W, H = box\n",
    "        rect = patches.Rectangle((X * w ,Y * h), W * w, H * h ,linewidth=3,edgecolor='r',facecolor='none')\n",
    "        ax.add_patch(rect)\n",
    "        \n",
    "    plt.show()"
   ]
  },
  {
   "cell_type": "code",
   "execution_count": null,
   "metadata": {},
   "outputs": [],
   "source": [
    "imgs[0]"
   ]
  },
  {
   "cell_type": "code",
   "execution_count": null,
   "metadata": {},
   "outputs": [],
   "source": [
    "plot_box()"
   ]
  },
  {
   "cell_type": "code",
   "execution_count": null,
   "metadata": {},
   "outputs": [],
   "source": [
    "Imgs[\"train/37--Soccer/37_Soccer_Soccer_37_520.jpg\"]"
   ]
  },
  {
   "cell_type": "code",
   "execution_count": null,
   "metadata": {},
   "outputs": [],
   "source": [
    "from matplotlib import interactive\n",
    "interactive(True)"
   ]
  },
  {
   "cell_type": "code",
   "execution_count": null,
   "metadata": {},
   "outputs": [],
   "source": [
    "g = 23"
   ]
  },
  {
   "cell_type": "code",
   "execution_count": null,
   "metadata": {},
   "outputs": [],
   "source": [
    "d = np.abs(sess.run(bbox, feed_dict={X: np.expand_dims(np.array(Image.open(\"face.jpg\").convert(\"RGB\").resize((100, 100), Image.ANTIALIAS))/255, axis = 0)}))"
   ]
  },
  {
   "cell_type": "code",
   "execution_count": null,
   "metadata": {},
   "outputs": [],
   "source": [
    "d = d[d[:, 0] > 0.55]"
   ]
  },
  {
   "cell_type": "code",
   "execution_count": null,
   "metadata": {},
   "outputs": [],
   "source": [
    "d"
   ]
  },
  {
   "cell_type": "code",
   "execution_count": null,
   "metadata": {},
   "outputs": [],
   "source": [
    "plot_box1(d[:], \"face.jpg\")"
   ]
  },
  {
   "cell_type": "code",
   "execution_count": null,
   "metadata": {},
   "outputs": [],
   "source": []
  },
  {
   "cell_type": "code",
   "execution_count": null,
   "metadata": {},
   "outputs": [],
   "source": []
  }
 ],
 "metadata": {
  "kernelspec": {
   "display_name": "Python 3",
   "language": "python",
   "name": "python3"
  },
  "language_info": {
   "codemirror_mode": {
    "name": "ipython",
    "version": 3
   },
   "file_extension": ".py",
   "mimetype": "text/x-python",
   "name": "python",
   "nbconvert_exporter": "python",
   "pygments_lexer": "ipython3",
   "version": "3.5.2"
  }
 },
 "nbformat": 4,
 "nbformat_minor": 2
}
